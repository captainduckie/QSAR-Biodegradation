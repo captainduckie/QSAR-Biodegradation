{
 "cells": [
  {
   "cell_type": "markdown",
   "id": "be9e490b",
   "metadata": {},
   "source": [
    "### Data Exploration"
   ]
  },
  {
   "cell_type": "code",
   "execution_count": 75,
   "id": "00770487",
   "metadata": {},
   "outputs": [],
   "source": [
    "import numpy as np\n",
    "import pandas as pd\n",
    "import seaborn as sns\n",
    "import matplotlib.pyplot as plt"
   ]
  },
  {
   "cell_type": "code",
   "execution_count": 76,
   "id": "82e67443",
   "metadata": {},
   "outputs": [],
   "source": [
    "dataset = pd.read_csv(r\"C:\\Users\\sharo\\Desktop\\Sharon\\Goals\\Machine Learning\\Datasets\\QSAR-Biodegr\\data.csv\")"
   ]
  },
  {
   "cell_type": "code",
   "execution_count": 77,
   "id": "4d426cd7",
   "metadata": {},
   "outputs": [
    {
     "data": {
      "text/html": [
       "<div>\n",
       "<style scoped>\n",
       "    .dataframe tbody tr th:only-of-type {\n",
       "        vertical-align: middle;\n",
       "    }\n",
       "\n",
       "    .dataframe tbody tr th {\n",
       "        vertical-align: top;\n",
       "    }\n",
       "\n",
       "    .dataframe thead th {\n",
       "        text-align: right;\n",
       "    }\n",
       "</style>\n",
       "<table border=\"1\" class=\"dataframe\">\n",
       "  <thead>\n",
       "    <tr style=\"text-align: right;\">\n",
       "      <th></th>\n",
       "      <th>V1</th>\n",
       "      <th>V2</th>\n",
       "      <th>V3</th>\n",
       "      <th>V4</th>\n",
       "      <th>V5</th>\n",
       "      <th>V6</th>\n",
       "      <th>V7</th>\n",
       "      <th>V8</th>\n",
       "      <th>V9</th>\n",
       "      <th>V10</th>\n",
       "      <th>...</th>\n",
       "      <th>V33</th>\n",
       "      <th>V34</th>\n",
       "      <th>V35</th>\n",
       "      <th>V36</th>\n",
       "      <th>V37</th>\n",
       "      <th>V38</th>\n",
       "      <th>V39</th>\n",
       "      <th>V40</th>\n",
       "      <th>V41</th>\n",
       "      <th>Class</th>\n",
       "    </tr>\n",
       "  </thead>\n",
       "  <tbody>\n",
       "    <tr>\n",
       "      <th>count</th>\n",
       "      <td>1055.000000</td>\n",
       "      <td>1055.000000</td>\n",
       "      <td>1055.000000</td>\n",
       "      <td>1055.000000</td>\n",
       "      <td>1055.000000</td>\n",
       "      <td>1055.000000</td>\n",
       "      <td>1055.000000</td>\n",
       "      <td>1055.000000</td>\n",
       "      <td>1055.000000</td>\n",
       "      <td>1055.000000</td>\n",
       "      <td>...</td>\n",
       "      <td>1055.000000</td>\n",
       "      <td>1055.000000</td>\n",
       "      <td>1055.000000</td>\n",
       "      <td>1055.000000</td>\n",
       "      <td>1055.000000</td>\n",
       "      <td>1055.000000</td>\n",
       "      <td>1055.000000</td>\n",
       "      <td>1055.000000</td>\n",
       "      <td>1055.000000</td>\n",
       "      <td>1055.000000</td>\n",
       "    </tr>\n",
       "    <tr>\n",
       "      <th>mean</th>\n",
       "      <td>4.782644</td>\n",
       "      <td>3.069508</td>\n",
       "      <td>0.716588</td>\n",
       "      <td>0.042654</td>\n",
       "      <td>0.980095</td>\n",
       "      <td>0.290047</td>\n",
       "      <td>1.646445</td>\n",
       "      <td>37.055640</td>\n",
       "      <td>1.376303</td>\n",
       "      <td>1.803791</td>\n",
       "      <td>...</td>\n",
       "      <td>0.883412</td>\n",
       "      <td>1.274882</td>\n",
       "      <td>0.961137</td>\n",
       "      <td>3.918240</td>\n",
       "      <td>2.558417</td>\n",
       "      <td>0.686256</td>\n",
       "      <td>8.629492</td>\n",
       "      <td>0.051185</td>\n",
       "      <td>0.723223</td>\n",
       "      <td>1.337441</td>\n",
       "    </tr>\n",
       "    <tr>\n",
       "      <th>std</th>\n",
       "      <td>0.546916</td>\n",
       "      <td>0.831308</td>\n",
       "      <td>1.462452</td>\n",
       "      <td>0.256010</td>\n",
       "      <td>2.332955</td>\n",
       "      <td>1.073771</td>\n",
       "      <td>2.224822</td>\n",
       "      <td>9.144466</td>\n",
       "      <td>1.963521</td>\n",
       "      <td>1.775435</td>\n",
       "      <td>...</td>\n",
       "      <td>1.520467</td>\n",
       "      <td>2.273994</td>\n",
       "      <td>1.257013</td>\n",
       "      <td>0.999602</td>\n",
       "      <td>0.642765</td>\n",
       "      <td>1.090389</td>\n",
       "      <td>1.241986</td>\n",
       "      <td>0.318970</td>\n",
       "      <td>2.239286</td>\n",
       "      <td>0.473061</td>\n",
       "    </tr>\n",
       "    <tr>\n",
       "      <th>min</th>\n",
       "      <td>2.000000</td>\n",
       "      <td>0.803900</td>\n",
       "      <td>0.000000</td>\n",
       "      <td>0.000000</td>\n",
       "      <td>0.000000</td>\n",
       "      <td>0.000000</td>\n",
       "      <td>0.000000</td>\n",
       "      <td>0.000000</td>\n",
       "      <td>0.000000</td>\n",
       "      <td>0.000000</td>\n",
       "      <td>...</td>\n",
       "      <td>0.000000</td>\n",
       "      <td>0.000000</td>\n",
       "      <td>0.000000</td>\n",
       "      <td>2.267000</td>\n",
       "      <td>1.467000</td>\n",
       "      <td>0.000000</td>\n",
       "      <td>4.917000</td>\n",
       "      <td>0.000000</td>\n",
       "      <td>0.000000</td>\n",
       "      <td>1.000000</td>\n",
       "    </tr>\n",
       "    <tr>\n",
       "      <th>25%</th>\n",
       "      <td>4.481000</td>\n",
       "      <td>2.502750</td>\n",
       "      <td>0.000000</td>\n",
       "      <td>0.000000</td>\n",
       "      <td>0.000000</td>\n",
       "      <td>0.000000</td>\n",
       "      <td>0.000000</td>\n",
       "      <td>30.450000</td>\n",
       "      <td>0.000000</td>\n",
       "      <td>0.000000</td>\n",
       "      <td>...</td>\n",
       "      <td>0.000000</td>\n",
       "      <td>0.000000</td>\n",
       "      <td>0.000000</td>\n",
       "      <td>3.487500</td>\n",
       "      <td>2.103000</td>\n",
       "      <td>0.000000</td>\n",
       "      <td>7.991000</td>\n",
       "      <td>0.000000</td>\n",
       "      <td>0.000000</td>\n",
       "      <td>1.000000</td>\n",
       "    </tr>\n",
       "    <tr>\n",
       "      <th>50%</th>\n",
       "      <td>4.828000</td>\n",
       "      <td>3.046300</td>\n",
       "      <td>0.000000</td>\n",
       "      <td>0.000000</td>\n",
       "      <td>0.000000</td>\n",
       "      <td>0.000000</td>\n",
       "      <td>1.000000</td>\n",
       "      <td>37.500000</td>\n",
       "      <td>1.000000</td>\n",
       "      <td>2.000000</td>\n",
       "      <td>...</td>\n",
       "      <td>0.000000</td>\n",
       "      <td>0.000000</td>\n",
       "      <td>1.000000</td>\n",
       "      <td>3.726000</td>\n",
       "      <td>2.458000</td>\n",
       "      <td>0.000000</td>\n",
       "      <td>8.499000</td>\n",
       "      <td>0.000000</td>\n",
       "      <td>0.000000</td>\n",
       "      <td>1.000000</td>\n",
       "    </tr>\n",
       "    <tr>\n",
       "      <th>75%</th>\n",
       "      <td>5.125000</td>\n",
       "      <td>3.437650</td>\n",
       "      <td>1.000000</td>\n",
       "      <td>0.000000</td>\n",
       "      <td>1.000000</td>\n",
       "      <td>0.000000</td>\n",
       "      <td>3.000000</td>\n",
       "      <td>43.400000</td>\n",
       "      <td>2.000000</td>\n",
       "      <td>3.000000</td>\n",
       "      <td>...</td>\n",
       "      <td>1.000000</td>\n",
       "      <td>2.000000</td>\n",
       "      <td>2.000000</td>\n",
       "      <td>3.987000</td>\n",
       "      <td>2.870500</td>\n",
       "      <td>1.000000</td>\n",
       "      <td>9.020500</td>\n",
       "      <td>0.000000</td>\n",
       "      <td>0.000000</td>\n",
       "      <td>2.000000</td>\n",
       "    </tr>\n",
       "    <tr>\n",
       "      <th>max</th>\n",
       "      <td>6.496000</td>\n",
       "      <td>9.177500</td>\n",
       "      <td>12.000000</td>\n",
       "      <td>3.000000</td>\n",
       "      <td>36.000000</td>\n",
       "      <td>13.000000</td>\n",
       "      <td>18.000000</td>\n",
       "      <td>60.700000</td>\n",
       "      <td>24.000000</td>\n",
       "      <td>12.000000</td>\n",
       "      <td>...</td>\n",
       "      <td>12.000000</td>\n",
       "      <td>18.000000</td>\n",
       "      <td>7.000000</td>\n",
       "      <td>10.695000</td>\n",
       "      <td>5.825000</td>\n",
       "      <td>8.000000</td>\n",
       "      <td>14.700000</td>\n",
       "      <td>4.000000</td>\n",
       "      <td>27.000000</td>\n",
       "      <td>2.000000</td>\n",
       "    </tr>\n",
       "  </tbody>\n",
       "</table>\n",
       "<p>8 rows × 42 columns</p>\n",
       "</div>"
      ],
      "text/plain": [
       "                V1           V2           V3           V4           V5  \\\n",
       "count  1055.000000  1055.000000  1055.000000  1055.000000  1055.000000   \n",
       "mean      4.782644     3.069508     0.716588     0.042654     0.980095   \n",
       "std       0.546916     0.831308     1.462452     0.256010     2.332955   \n",
       "min       2.000000     0.803900     0.000000     0.000000     0.000000   \n",
       "25%       4.481000     2.502750     0.000000     0.000000     0.000000   \n",
       "50%       4.828000     3.046300     0.000000     0.000000     0.000000   \n",
       "75%       5.125000     3.437650     1.000000     0.000000     1.000000   \n",
       "max       6.496000     9.177500    12.000000     3.000000    36.000000   \n",
       "\n",
       "                V6           V7           V8           V9          V10  ...  \\\n",
       "count  1055.000000  1055.000000  1055.000000  1055.000000  1055.000000  ...   \n",
       "mean      0.290047     1.646445    37.055640     1.376303     1.803791  ...   \n",
       "std       1.073771     2.224822     9.144466     1.963521     1.775435  ...   \n",
       "min       0.000000     0.000000     0.000000     0.000000     0.000000  ...   \n",
       "25%       0.000000     0.000000    30.450000     0.000000     0.000000  ...   \n",
       "50%       0.000000     1.000000    37.500000     1.000000     2.000000  ...   \n",
       "75%       0.000000     3.000000    43.400000     2.000000     3.000000  ...   \n",
       "max      13.000000    18.000000    60.700000    24.000000    12.000000  ...   \n",
       "\n",
       "               V33          V34          V35          V36          V37  \\\n",
       "count  1055.000000  1055.000000  1055.000000  1055.000000  1055.000000   \n",
       "mean      0.883412     1.274882     0.961137     3.918240     2.558417   \n",
       "std       1.520467     2.273994     1.257013     0.999602     0.642765   \n",
       "min       0.000000     0.000000     0.000000     2.267000     1.467000   \n",
       "25%       0.000000     0.000000     0.000000     3.487500     2.103000   \n",
       "50%       0.000000     0.000000     1.000000     3.726000     2.458000   \n",
       "75%       1.000000     2.000000     2.000000     3.987000     2.870500   \n",
       "max      12.000000    18.000000     7.000000    10.695000     5.825000   \n",
       "\n",
       "               V38          V39          V40          V41        Class  \n",
       "count  1055.000000  1055.000000  1055.000000  1055.000000  1055.000000  \n",
       "mean      0.686256     8.629492     0.051185     0.723223     1.337441  \n",
       "std       1.090389     1.241986     0.318970     2.239286     0.473061  \n",
       "min       0.000000     4.917000     0.000000     0.000000     1.000000  \n",
       "25%       0.000000     7.991000     0.000000     0.000000     1.000000  \n",
       "50%       0.000000     8.499000     0.000000     0.000000     1.000000  \n",
       "75%       1.000000     9.020500     0.000000     0.000000     2.000000  \n",
       "max       8.000000    14.700000     4.000000    27.000000     2.000000  \n",
       "\n",
       "[8 rows x 42 columns]"
      ]
     },
     "execution_count": 77,
     "metadata": {},
     "output_type": "execute_result"
    }
   ],
   "source": [
    "dataset.describe()"
   ]
  },
  {
   "cell_type": "markdown",
   "id": "5f9db51d",
   "metadata": {},
   "source": [
    "* Attribute Information:\n",
    "\n",
    "41 molecular descriptors and 1 experimental class:\n",
    "\n",
    "1) SpMax_L: Leading eigenvalue from Laplace matrix\n",
    "2) J_Dz(e): Balaban-like index from Barysz matrix weighted by Sanderson electronegativity\n",
    "3) nHM: Number of heavy atoms\n",
    "4) F01[N-N]: Frequency of N-N at topological distance 1\n",
    "5) F04[C-N]: Frequency of C-N at topological distance 4\n",
    "6) NssssC: Number of atoms of type ssssC\n",
    "7) nCb-: Number of substituted benzene C(sp2)\n",
    "8) C%: Percentage of C atoms\n",
    "9) nCp: Number of terminal primary C(sp3)\n",
    "10) nO: Number of oxygen atoms\n",
    "11) F03[C-N]: Frequency of C-N at topological distance 3\n",
    "12) SdssC: Sum of dssC E-states\n",
    "13) HyWi_B(m): Hyper-Wiener-like index (log function) from Burden matrix weighted by mass\n",
    "14) LOC: Lopping centric index\n",
    "15) SM6_L: Spectral moment of order 6 from Laplace matrix\n",
    "16) F03[C-O]: Frequency of C - O at topological distance 3\n",
    "17) Me: Mean atomic Sanderson electronegativity (scaled on Carbon atom)\n",
    "18) Mi: Mean first ionization potential (scaled on Carbon atom)\n",
    "19) nN-N: Number of N hydrazines\n",
    "20) nArNO2: Number of nitro groups (aromatic)\n",
    "21) nCRX3: Number of CRX3\n",
    "22) SpPosA_B(p): Normalized spectral positive sum from Burden matrix weighted by polarizability\n",
    "23) nCIR: Number of circuits\n",
    "24) B01[C-Br]: Presence/absence of C - Br at topological distance 1\n",
    "25) B03[C-Cl]: Presence/absence of C - Cl at topological distance 3\n",
    "26) N-073: Ar2NH / Ar3N / Ar2N-Al / R..N..R\n",
    "27) SpMax_A: Leading eigenvalue from adjacency matrix (Lovasz-Pelikan index)\n",
    "28) Psi_i_1d: Intrinsic state pseudoconnectivity index - type 1d\n",
    "29) B04[C-Br]: Presence/absence of C - Br at topological distance 4\n",
    "30) SdO: Sum of dO E-states\n",
    "31) TI2_L: Second Mohar index from Laplace matrix\n",
    "32) nCrt: Number of ring tertiary C(sp3)\n",
    "33) C-026: R--CX--R\n",
    "34) F02[C-N]: Frequency of C - N at topological distance 2\n",
    "35) nHDon: Number of donor atoms for H-bonds (N and O)\n",
    "36) SpMax_B(m): Leading eigenvalue from Burden matrix weighted by mass\n",
    "37) Psi_i_A: Intrinsic state pseudoconnectivity index - type S average\n",
    "38) nN: Number of Nitrogen atoms\n",
    "39) SM6_B(m): Spectral moment of order 6 from Burden matrix weighted by mass\n",
    "40) nArCOOR: Number of esters (aromatic)\n",
    "41) nX: Number of halogen atoms\n",
    "42) experimental class: ready biodegradable (RB) and not ready biodegradable (NRB)"
   ]
  },
  {
   "cell_type": "code",
   "execution_count": 78,
   "id": "47d54d12",
   "metadata": {},
   "outputs": [
    {
     "name": "stdout",
     "output_type": "stream",
     "text": [
      "Target variable: NRB (not ready biodegradable), RB (ready biodegradable)\n",
      "Unique values of the target variable [1 2]\n",
      "Counts of the target variable : [699 356]\n"
     ]
    }
   ],
   "source": [
    "(unique, counts) = np.unique(dataset['Class'], return_counts=True)\n",
    "print('Target variable: NRB (not ready biodegradable), RB (ready biodegradable)')\n",
    "print('Unique values of the target variable', unique)\n",
    "print('Counts of the target variable :', counts)"
   ]
  },
  {
   "cell_type": "code",
   "execution_count": 79,
   "id": "b49830b1",
   "metadata": {},
   "outputs": [
    {
     "data": {
      "image/png": "[encoded data removed]",
      "text/plain": [
       "<Figure size 432x288 with 1 Axes>"
      ]
     },
     "metadata": {
      "needs_background": "light"
     },
     "output_type": "display_data"
    }
   ],
   "source": [
    "sns.barplot(x=['NRB','RB'], y=counts)\n",
    "plt.title('Target variable counts in dataset')\n",
    "plt.show()"
   ]
  },
  {
   "cell_type": "markdown",
   "id": "a812bdff",
   "metadata": {},
   "source": [
    "### Create baseline model - logistic regression"
   ]
  },
  {
   "cell_type": "code",
   "execution_count": 80,
   "id": "03ad86d8",
   "metadata": {},
   "outputs": [],
   "source": [
    "y = dataset['Class']"
   ]
  },
  {
   "cell_type": "code",
   "execution_count": 82,
   "id": "83c25ebd",
   "metadata": {},
   "outputs": [],
   "source": [
    "X = dataset.drop('Class', axis=1)"
   ]
  },
  {
   "cell_type": "code",
   "execution_count": 83,
   "id": "9dbc922d",
   "metadata": {},
   "outputs": [
    {
     "data": {
      "text/html": [
       "<div>\n",
       "<style scoped>\n",
       "    .dataframe tbody tr th:only-of-type {\n",
       "        vertical-align: middle;\n",
       "    }\n",
       "\n",
       "    .dataframe tbody tr th {\n",
       "        vertical-align: top;\n",
       "    }\n",
       "\n",
       "    .dataframe thead th {\n",
       "        text-align: right;\n",
       "    }\n",
       "</style>\n",
       "<table border=\"1\" class=\"dataframe\">\n",
       "  <thead>\n",
       "    <tr style=\"text-align: right;\">\n",
       "      <th></th>\n",
       "      <th>V1</th>\n",
       "      <th>V2</th>\n",
       "      <th>V3</th>\n",
       "      <th>V4</th>\n",
       "      <th>V5</th>\n",
       "      <th>V6</th>\n",
       "      <th>V7</th>\n",
       "      <th>V8</th>\n",
       "      <th>V9</th>\n",
       "      <th>V10</th>\n",
       "      <th>...</th>\n",
       "      <th>V32</th>\n",
       "      <th>V33</th>\n",
       "      <th>V34</th>\n",
       "      <th>V35</th>\n",
       "      <th>V36</th>\n",
       "      <th>V37</th>\n",
       "      <th>V38</th>\n",
       "      <th>V39</th>\n",
       "      <th>V40</th>\n",
       "      <th>V41</th>\n",
       "    </tr>\n",
       "  </thead>\n",
       "  <tbody>\n",
       "    <tr>\n",
       "      <th>0</th>\n",
       "      <td>3.919</td>\n",
       "      <td>2.6909</td>\n",
       "      <td>0</td>\n",
       "      <td>0</td>\n",
       "      <td>0</td>\n",
       "      <td>0</td>\n",
       "      <td>0</td>\n",
       "      <td>31.4</td>\n",
       "      <td>2</td>\n",
       "      <td>0</td>\n",
       "      <td>...</td>\n",
       "      <td>0</td>\n",
       "      <td>0</td>\n",
       "      <td>0</td>\n",
       "      <td>0</td>\n",
       "      <td>2.949</td>\n",
       "      <td>1.591</td>\n",
       "      <td>0</td>\n",
       "      <td>7.253</td>\n",
       "      <td>0</td>\n",
       "      <td>0</td>\n",
       "    </tr>\n",
       "    <tr>\n",
       "      <th>1</th>\n",
       "      <td>4.170</td>\n",
       "      <td>2.1144</td>\n",
       "      <td>0</td>\n",
       "      <td>0</td>\n",
       "      <td>0</td>\n",
       "      <td>0</td>\n",
       "      <td>0</td>\n",
       "      <td>30.8</td>\n",
       "      <td>1</td>\n",
       "      <td>1</td>\n",
       "      <td>...</td>\n",
       "      <td>0</td>\n",
       "      <td>0</td>\n",
       "      <td>0</td>\n",
       "      <td>0</td>\n",
       "      <td>3.315</td>\n",
       "      <td>1.967</td>\n",
       "      <td>0</td>\n",
       "      <td>7.257</td>\n",
       "      <td>0</td>\n",
       "      <td>0</td>\n",
       "    </tr>\n",
       "    <tr>\n",
       "      <th>2</th>\n",
       "      <td>3.932</td>\n",
       "      <td>3.2512</td>\n",
       "      <td>0</td>\n",
       "      <td>0</td>\n",
       "      <td>0</td>\n",
       "      <td>0</td>\n",
       "      <td>0</td>\n",
       "      <td>26.7</td>\n",
       "      <td>2</td>\n",
       "      <td>4</td>\n",
       "      <td>...</td>\n",
       "      <td>0</td>\n",
       "      <td>0</td>\n",
       "      <td>0</td>\n",
       "      <td>1</td>\n",
       "      <td>3.076</td>\n",
       "      <td>2.417</td>\n",
       "      <td>0</td>\n",
       "      <td>7.601</td>\n",
       "      <td>0</td>\n",
       "      <td>0</td>\n",
       "    </tr>\n",
       "    <tr>\n",
       "      <th>3</th>\n",
       "      <td>3.000</td>\n",
       "      <td>2.7098</td>\n",
       "      <td>0</td>\n",
       "      <td>0</td>\n",
       "      <td>0</td>\n",
       "      <td>0</td>\n",
       "      <td>0</td>\n",
       "      <td>20.0</td>\n",
       "      <td>0</td>\n",
       "      <td>2</td>\n",
       "      <td>...</td>\n",
       "      <td>0</td>\n",
       "      <td>0</td>\n",
       "      <td>0</td>\n",
       "      <td>1</td>\n",
       "      <td>3.046</td>\n",
       "      <td>5.000</td>\n",
       "      <td>0</td>\n",
       "      <td>6.690</td>\n",
       "      <td>0</td>\n",
       "      <td>0</td>\n",
       "    </tr>\n",
       "    <tr>\n",
       "      <th>4</th>\n",
       "      <td>4.236</td>\n",
       "      <td>3.3944</td>\n",
       "      <td>0</td>\n",
       "      <td>0</td>\n",
       "      <td>0</td>\n",
       "      <td>0</td>\n",
       "      <td>0</td>\n",
       "      <td>29.4</td>\n",
       "      <td>2</td>\n",
       "      <td>4</td>\n",
       "      <td>...</td>\n",
       "      <td>0</td>\n",
       "      <td>0</td>\n",
       "      <td>0</td>\n",
       "      <td>0</td>\n",
       "      <td>3.351</td>\n",
       "      <td>2.405</td>\n",
       "      <td>0</td>\n",
       "      <td>8.003</td>\n",
       "      <td>0</td>\n",
       "      <td>0</td>\n",
       "    </tr>\n",
       "  </tbody>\n",
       "</table>\n",
       "<p>5 rows × 41 columns</p>\n",
       "</div>"
      ],
      "text/plain": [
       "      V1      V2  V3  V4  V5  V6  V7    V8  V9  V10  ...  V32  V33  V34  V35  \\\n",
       "0  3.919  2.6909   0   0   0   0   0  31.4   2    0  ...    0    0    0    0   \n",
       "1  4.170  2.1144   0   0   0   0   0  30.8   1    1  ...    0    0    0    0   \n",
       "2  3.932  3.2512   0   0   0   0   0  26.7   2    4  ...    0    0    0    1   \n",
       "3  3.000  2.7098   0   0   0   0   0  20.0   0    2  ...    0    0    0    1   \n",
       "4  4.236  3.3944   0   0   0   0   0  29.4   2    4  ...    0    0    0    0   \n",
       "\n",
       "     V36    V37  V38    V39  V40  V41  \n",
       "0  2.949  1.591    0  7.253    0    0  \n",
       "1  3.315  1.967    0  7.257    0    0  \n",
       "2  3.076  2.417    0  7.601    0    0  \n",
       "3  3.046  5.000    0  6.690    0    0  \n",
       "4  3.351  2.405    0  8.003    0    0  \n",
       "\n",
       "[5 rows x 41 columns]"
      ]
     },
     "execution_count": 83,
     "metadata": {},
     "output_type": "execute_result"
    }
   ],
   "source": [
    "X.head()"
   ]
  },
  {
   "cell_type": "code",
   "execution_count": 84,
   "id": "9c0c3d07",
   "metadata": {},
   "outputs": [],
   "source": [
    "# Apply normalization\n",
    "\n",
    "from sklearn.preprocessing import StandardScaler\n",
    "standardizer = StandardScaler()\n",
    "X = standardizer.fit_transform(X)"
   ]
  },
  {
   "cell_type": "code",
   "execution_count": 85,
   "id": "8a18645a",
   "metadata": {},
   "outputs": [],
   "source": [
    "# Split data into training and test sets\n",
    "from sklearn.model_selection import train_test_split\n",
    "X_train, X_test, y_train, y_test = train_test_split(X, y , test_size=0.25, random_state=0)"
   ]
  },
  {
   "cell_type": "code",
   "execution_count": 86,
   "id": "90276fae",
   "metadata": {},
   "outputs": [
    {
     "data": {
      "text/plain": [
       "LogisticRegression()"
      ]
     },
     "execution_count": 86,
     "metadata": {},
     "output_type": "execute_result"
    }
   ],
   "source": [
    "# Fit logistic regression model\n",
    "from sklearn.linear_model import LogisticRegression\n",
    "model = LogisticRegression()\n",
    "model.fit(X_train, y_train)"
   ]
  },
  {
   "cell_type": "code",
   "execution_count": 87,
   "id": "48093c99",
   "metadata": {},
   "outputs": [],
   "source": [
    "# Make predictions\n",
    "predictions = model.predict(X_test)"
   ]
  },
  {
   "cell_type": "code",
   "execution_count": 88,
   "id": "28bc941d",
   "metadata": {},
   "outputs": [
    {
     "name": "stdout",
     "output_type": "stream",
     "text": [
      "True Positive(TP)  =  60\n",
      "False Positive(FP) =  24\n",
      "True Negative(TN)  =  166\n",
      "False Negative(FN) =  14\n",
      "Accuracy of the binary classification = 0.856\n"
     ]
    }
   ],
   "source": [
    "# Calculate accuracy\n",
    "from sklearn.metrics import confusion_matrix\n",
    "\n",
    "cm = confusion_matrix(y_test, predictions)\n",
    "\n",
    "TN, FP, FN, TP = confusion_matrix(y_test, predictions).ravel()\n",
    "\n",
    "print('True Positive(TP)  = ', TP)\n",
    "print('False Positive(FP) = ', FP)\n",
    "print('True Negative(TN)  = ', TN)\n",
    "print('False Negative(FN) = ', FN)\n",
    "\n",
    "accuracy =  (TP+TN) /(TP+FP+TN+FN)\n",
    "\n",
    "print('Accuracy of the binary classification = {:0.3f}'.format(accuracy))"
   ]
  },
  {
   "cell_type": "markdown",
   "id": "395380c6",
   "metadata": {},
   "source": [
    "### Comparing models"
   ]
  },
  {
   "cell_type": "code",
   "execution_count": 90,
   "id": "f9de7d67",
   "metadata": {},
   "outputs": [],
   "source": [
    "# initialize and store models in dictionary\n",
    "models = {}\n",
    "\n",
    "# Logistic Regression\n",
    "from sklearn.linear_model import LogisticRegression\n",
    "models['Logistic Regression'] = LogisticRegression()\n",
    "\n",
    "# Support Vector Machines\n",
    "from sklearn.svm import LinearSVC\n",
    "models['Support Vector Machines'] = LinearSVC(dual=False)\n",
    "\n",
    "# Decision Trees\n",
    "from sklearn.tree import DecisionTreeClassifier\n",
    "models['Decision Trees'] = DecisionTreeClassifier()\n",
    "\n",
    "# Random Forest\n",
    "from sklearn.ensemble import RandomForestClassifier\n",
    "models['Random Forest'] = RandomForestClassifier()\n",
    "\n",
    "# Naive Bayes\n",
    "from sklearn.naive_bayes import GaussianNB\n",
    "models['Naive Bayes'] = GaussianNB()\n",
    "\n",
    "# K-Nearest Neighbors\n",
    "from sklearn.neighbors import KNeighborsClassifier\n",
    "models['K-Nearest Neighbor'] = KNeighborsClassifier()"
   ]
  },
  {
   "cell_type": "code",
   "execution_count": 91,
   "id": "b7ba4e88",
   "metadata": {},
   "outputs": [],
   "source": [
    "from sklearn.metrics import accuracy_score, precision_score, recall_score\n",
    "\n",
    "accuracy, precision, recall = {}, {}, {}\n",
    "\n",
    "for key in models.keys():\n",
    "    \n",
    "    # Fit the classifier model\n",
    "    models[key].fit(X_train, y_train)\n",
    "    \n",
    "    # Prediction \n",
    "    predictions = models[key].predict(X_test)\n",
    "    \n",
    "    # Calculate Accuracy, Precision and Recall Metrics\n",
    "    accuracy[key] = accuracy_score(predictions, y_test)\n",
    "    precision[key] = precision_score(predictions, y_test)\n",
    "    recall[key] = recall_score(predictions, y_test)"
   ]
  },
  {
   "cell_type": "code",
   "execution_count": 92,
   "id": "4e3e45a3",
   "metadata": {},
   "outputs": [
    {
     "data": {
      "text/html": [
       "<div>\n",
       "<style scoped>\n",
       "    .dataframe tbody tr th:only-of-type {\n",
       "        vertical-align: middle;\n",
       "    }\n",
       "\n",
       "    .dataframe tbody tr th {\n",
       "        vertical-align: top;\n",
       "    }\n",
       "\n",
       "    .dataframe thead th {\n",
       "        text-align: right;\n",
       "    }\n",
       "</style>\n",
       "<table border=\"1\" class=\"dataframe\">\n",
       "  <thead>\n",
       "    <tr style=\"text-align: right;\">\n",
       "      <th></th>\n",
       "      <th>Accuracy</th>\n",
       "      <th>Precision</th>\n",
       "      <th>Recall</th>\n",
       "    </tr>\n",
       "  </thead>\n",
       "  <tbody>\n",
       "    <tr>\n",
       "      <th>Logistic Regression</th>\n",
       "      <td>0.856061</td>\n",
       "      <td>0.873684</td>\n",
       "      <td>0.922222</td>\n",
       "    </tr>\n",
       "    <tr>\n",
       "      <th>Support Vector Machines</th>\n",
       "      <td>0.859848</td>\n",
       "      <td>0.873684</td>\n",
       "      <td>0.927374</td>\n",
       "    </tr>\n",
       "    <tr>\n",
       "      <th>Decision Trees</th>\n",
       "      <td>0.825758</td>\n",
       "      <td>0.842105</td>\n",
       "      <td>0.909091</td>\n",
       "    </tr>\n",
       "    <tr>\n",
       "      <th>Random Forest</th>\n",
       "      <td>0.886364</td>\n",
       "      <td>0.900000</td>\n",
       "      <td>0.939560</td>\n",
       "    </tr>\n",
       "    <tr>\n",
       "      <th>Naive Bayes</th>\n",
       "      <td>0.609848</td>\n",
       "      <td>0.468421</td>\n",
       "      <td>0.978022</td>\n",
       "    </tr>\n",
       "    <tr>\n",
       "      <th>K-Nearest Neighbor</th>\n",
       "      <td>0.833333</td>\n",
       "      <td>0.826316</td>\n",
       "      <td>0.934524</td>\n",
       "    </tr>\n",
       "  </tbody>\n",
       "</table>\n",
       "</div>"
      ],
      "text/plain": [
       "                         Accuracy  Precision    Recall\n",
       "Logistic Regression      0.856061   0.873684  0.922222\n",
       "Support Vector Machines  0.859848   0.873684  0.927374\n",
       "Decision Trees           0.825758   0.842105  0.909091\n",
       "Random Forest            0.886364   0.900000  0.939560\n",
       "Naive Bayes              0.609848   0.468421  0.978022\n",
       "K-Nearest Neighbor       0.833333   0.826316  0.934524"
      ]
     },
     "execution_count": 92,
     "metadata": {},
     "output_type": "execute_result"
    }
   ],
   "source": [
    "df_model = pd.DataFrame(index=models.keys(), columns=['Accuracy', 'Precision', 'Recall'])\n",
    "df_model['Accuracy'] = accuracy.values()\n",
    "df_model['Precision'] = precision.values()\n",
    "df_model['Recall'] = recall.values()\n",
    "\n",
    "df_model"
   ]
  },
  {
   "cell_type": "code",
   "execution_count": 93,
   "id": "8061f73b",
   "metadata": {},
   "outputs": [
    {
     "data": {
      "image/png": "[encoded data removed]",
      "text/plain": [
       "<Figure size 432x288 with 1 Axes>"
      ]
     },
     "metadata": {
      "needs_background": "light"
     },
     "output_type": "display_data"
    }
   ],
   "source": [
    "ax  = df_model.plot.bar(rot=45)\n",
    "ax.legend(ncol= len(models.keys()), bbox_to_anchor=(0, 1), loc='lower left', prop={'size': 14})\n",
    "plt.tight_layout()"
   ]
  },
  {
   "cell_type": "markdown",
   "id": "07713dbe",
   "metadata": {},
   "source": [
    "## XGBoost"
   ]
  },
  {
   "cell_type": "code",
   "execution_count": 153,
   "id": "77489fd7",
   "metadata": {},
   "outputs": [],
   "source": [
    "# convert target labels into binary values (blr = binary logistic regression)\n",
    "\n",
    "y_train_blr = y_train.replace(to_replace=1,\n",
    "                 value=0) # NRB not ready biodegradable\n",
    "y_train_blr = y_train_blr.replace(to_replace=2,\n",
    "                 value=1) # RB ready biodegradable\n",
    "\n",
    "\n",
    "y_test_blr = y_test.replace(to_replace=1,\n",
    "                 value=0) # NRB not ready biodegradable\n",
    "y_test_blr = y_test_blr.replace(to_replace=2,\n",
    "                 value=1) # RB ready biodegradable"
   ]
  },
  {
   "cell_type": "code",
   "execution_count": 155,
   "id": "7099989f",
   "metadata": {},
   "outputs": [
    {
     "data": {
      "text/plain": [
       "0    509\n",
       "1    282\n",
       "Name: Class, dtype: int64"
      ]
     },
     "execution_count": 155,
     "metadata": {},
     "output_type": "execute_result"
    }
   ],
   "source": [
    "y_train_blr.value_counts()"
   ]
  },
  {
   "cell_type": "code",
   "execution_count": 156,
   "id": "2f95a03e",
   "metadata": {},
   "outputs": [
    {
     "data": {
      "text/plain": [
       "0    190\n",
       "1     74\n",
       "Name: Class, dtype: int64"
      ]
     },
     "execution_count": 156,
     "metadata": {},
     "output_type": "execute_result"
    }
   ],
   "source": [
    "# check distribution is same for y\n",
    "y_test_blr.value_counts()"
   ]
  },
  {
   "cell_type": "code",
   "execution_count": 184,
   "id": "780739ec",
   "metadata": {},
   "outputs": [
    {
     "name": "stdout",
     "output_type": "stream",
     "text": [
      "Requirement already satisfied: xgboost in c:\\users\\sharo\\anaconda3\\lib\\site-packages (1.5.2)\n",
      "Requirement already satisfied: scipy in c:\\users\\sharo\\anaconda3\\lib\\site-packages (from xgboost) (1.6.2)\n",
      "Requirement already satisfied: numpy in c:\\users\\sharo\\anaconda3\\lib\\site-packages (from xgboost) (1.20.1)\n"
     ]
    }
   ],
   "source": [
    "# import XGBoost\n",
    "!pip install xgboost\n",
    "import xgboost as xgb\n",
    "from xgboost import XGBClassifier"
   ]
  },
  {
   "cell_type": "code",
   "execution_count": 176,
   "id": "868a8a9e",
   "metadata": {},
   "outputs": [],
   "source": [
    "# declare parameters\n",
    "params = {\n",
    "            'objective':'binary:logistic',\n",
    "            'max_depth': 4,\n",
    "            'alpha': 10,\n",
    "            'learning_rate': 1,\n",
    "            'n_estimators':100\n",
    "        } "
   ]
  },
  {
   "cell_type": "code",
   "execution_count": 177,
   "id": "1692e7e1",
   "metadata": {},
   "outputs": [
    {
     "name": "stdout",
     "output_type": "stream",
     "text": [
      "[14:08:17] WARNING: C:/Users/Administrator/workspace/xgboost-win64_release_1.5.1/src/learner.cc:1115: Starting in XGBoost 1.3.0, the default evaluation metric used with the objective 'binary:logistic' was changed from 'error' to 'logloss'. Explicitly set eval_metric if you'd like to restore the old behavior.\n"
     ]
    },
    {
     "name": "stderr",
     "output_type": "stream",
     "text": [
      "C:\\Users\\sharo\\anaconda3\\lib\\site-packages\\xgboost\\sklearn.py:1224: UserWarning: The use of label encoder in XGBClassifier is deprecated and will be removed in a future release. To remove this warning, do the following: 1) Pass option use_label_encoder=False when constructing XGBClassifier object; and 2) Encode your labels (y) as integers starting with 0, i.e. 0, 1, 2, ..., [num_class - 1].\n",
      "  warnings.warn(label_encoder_deprecation_msg, UserWarning)\n"
     ]
    },
    {
     "data": {
      "text/plain": [
       "XGBClassifier(alpha=10, base_score=0.5, booster='gbtree', colsample_bylevel=1,\n",
       "              colsample_bynode=1, colsample_bytree=1, enable_categorical=False,\n",
       "              gamma=0, gpu_id=-1, importance_type=None,\n",
       "              interaction_constraints='', learning_rate=1, max_delta_step=0,\n",
       "              max_depth=4, min_child_weight=1, missing=nan,\n",
       "              monotone_constraints='()', n_estimators=100, n_jobs=8,\n",
       "              num_parallel_tree=1, predictor='auto', random_state=0,\n",
       "              reg_alpha=10, reg_lambda=1, scale_pos_weight=1, subsample=1,\n",
       "              tree_method='exact', validate_parameters=1, verbosity=None)"
      ]
     },
     "execution_count": 177,
     "metadata": {},
     "output_type": "execute_result"
    }
   ],
   "source": [
    "# instantiate the classifier \n",
    "xgb_clf = XGBClassifier(**params)\n",
    "\n",
    "# fit the classifier to the training data\n",
    "xgb_clf.fit(X_train, y_train_blr)"
   ]
  },
  {
   "cell_type": "markdown",
   "id": "eb4b9c8a",
   "metadata": {},
   "source": [
    "## Make predictions and check accuracy"
   ]
  },
  {
   "cell_type": "code",
   "execution_count": 178,
   "id": "fe14a41d",
   "metadata": {},
   "outputs": [],
   "source": [
    "# make predictions on test data\n",
    "y_pred = xgb_clf.predict(X_test)"
   ]
  },
  {
   "cell_type": "code",
   "execution_count": 179,
   "id": "b0fc198f",
   "metadata": {},
   "outputs": [
    {
     "name": "stdout",
     "output_type": "stream",
     "text": [
      "XGBoost model accuracy score: 0.8598\n"
     ]
    }
   ],
   "source": [
    "from sklearn.metrics import accuracy_score\n",
    "print('XGBoost model accuracy score: {0:0.4f}'. format(accuracy_score(y_test_blr, y_pred)))"
   ]
  },
  {
   "cell_type": "code",
   "execution_count": 185,
   "id": "237c4a6f",
   "metadata": {},
   "outputs": [
    {
     "data": {
      "image/png": "[encoded data removed]",
      "text/plain": [
       "<Figure size 432x288 with 1 Axes>"
      ]
     },
     "metadata": {
      "needs_background": "light"
     },
     "output_type": "display_data"
    },
    {
     "data": {
      "text/plain": [
       "<Figure size 1152x864 with 0 Axes>"
      ]
     },
     "metadata": {},
     "output_type": "display_data"
    }
   ],
   "source": [
    "# check feature importance\n",
    "xgb.plot_importance(xgb_clf)\n",
    "plt.figure(figsize = (16, 12))\n",
    "plt.show()"
   ]
  },
  {
   "cell_type": "markdown",
   "id": "2b8b0dc2",
   "metadata": {},
   "source": [
    "## Random Forest Regressor and K-fold Cross-Validation"
   ]
  },
  {
   "cell_type": "code",
   "execution_count": 193,
   "id": "9e36e56b",
   "metadata": {},
   "outputs": [],
   "source": [
    "from sklearn.ensemble import RandomForestClassifier\n",
    "from sklearn.pipeline import Pipeline\n",
    "from sklearn.impute import SimpleImputer\n",
    "\n",
    "my_pipeline = Pipeline(steps=[('preprocessor', SimpleImputer()),\n",
    "                              ('model', RandomForestClassifier(random_state=0))\n",
    "                             ])"
   ]
  },
  {
   "cell_type": "code",
   "execution_count": 194,
   "id": "7326dbc5",
   "metadata": {},
   "outputs": [
    {
     "name": "stdout",
     "output_type": "stream",
     "text": [
      "Accuracy scores:\n",
      " [0.8957346  0.87677725 0.83412322 0.78672986 0.87203791]\n",
      "Mean accuracy:\n",
      " 0.8530805687203792\n"
     ]
    }
   ],
   "source": [
    "from sklearn.model_selection import cross_val_score\n",
    "\n",
    "scores = cross_val_score(my_pipeline, X, y,\n",
    "                              cv=5,\n",
    "                              scoring='accuracy')\n",
    "\n",
    "print(\"Accuracy scores:\\n\", scores)\n",
    "print(\"Mean accuracy:\\n\", scores.mean())"
   ]
  },
  {
   "cell_type": "markdown",
   "id": "ef2be98f",
   "metadata": {},
   "source": [
    "## Optimize Random Forest Regressor parameters"
   ]
  },
  {
   "cell_type": "code",
   "execution_count": 195,
   "id": "8ef3eac7",
   "metadata": {},
   "outputs": [],
   "source": [
    "def best_rfg(X, y, n_estimators_ls, max_leaf_nodes_ls):\n",
    "    \n",
    "    # initiate variables\n",
    "    my_accuracy = 0\n",
    "    best_accuracy = 0\n",
    "    best_n_estimators = 0\n",
    "    best_max_leaf_nodes = 0\n",
    "    \n",
    "    for n_estimators in n_estimators_ls:\n",
    "        for max_leaf_nodes in max_leaf_nodes_ls:\n",
    "            \n",
    "            my_pipeline = Pipeline(steps=[('preprocessor', SimpleImputer()),\n",
    "                                      ('model', RandomForestClassifier(n_estimators=n_estimators,\n",
    "                                                                       max_leaf_nodes=max_leaf_nodes,\n",
    "                                                                       random_state=0))\n",
    "                                     ])\n",
    "            \n",
    "            scores = cross_val_score(my_pipeline, X, y,\n",
    "                              cv=5,\n",
    "                              scoring='accuracy')\n",
    "            \n",
    "            \n",
    "            my_accuracy = scores.mean()\n",
    "            if my_accuracy > best_accuracy:\n",
    "                best_accuracy = my_accuracy\n",
    "                best_n_estimators = n_estimators\n",
    "                best_max_leaf_nodes = max_leaf_nodes\n",
    "                \n",
    "    return (best_accuracy, best_n_estimators, best_max_leaf_nodes)"
   ]
  },
  {
   "cell_type": "code",
   "execution_count": 197,
   "id": "22c8693e",
   "metadata": {},
   "outputs": [
    {
     "data": {
      "text/plain": [
       "(0.8568720379146919, 100, 500)"
      ]
     },
     "execution_count": 197,
     "metadata": {},
     "output_type": "execute_result"
    }
   ],
   "source": [
    "n_estimators_ls = [1,10,100,1000]\n",
    "max_leaf_nodes_ls = [5,50,500,1000]\n",
    "\n",
    "best_rfg(X, y, n_estimators_ls, max_leaf_nodes_ls)"
   ]
  }
 ],
 "metadata": {
  "kernelspec": {
   "display_name": "Python 3",
   "language": "python",
   "name": "python3"
  },
  "language_info": {
   "codemirror_mode": {
    "name": "ipython",
    "version": 3
   },
   "file_extension": ".py",
   "mimetype": "text/x-python",
   "name": "python",
   "nbconvert_exporter": "python",
   "pygments_lexer": "ipython3",
   "version": "3.8.8"
  }
 },
 "nbformat": 4,
 "nbformat_minor": 5
}
